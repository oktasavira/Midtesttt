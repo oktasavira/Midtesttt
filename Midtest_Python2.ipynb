{
  "nbformat": 4,
  "nbformat_minor": 0,
  "metadata": {
    "colab": {
      "provenance": []
    },
    "kernelspec": {
      "name": "python3",
      "display_name": "Python 3"
    },
    "language_info": {
      "name": "python"
    }
  },
  "cells": [
    {
      "cell_type": "code",
      "execution_count": 4,
      "metadata": {
        "colab": {
          "base_uri": "https://localhost:8080/"
        },
        "id": "Jkw7Eft_eC0c",
        "outputId": "eac46b45-9422-45ba-b150-5a5073138923"
      },
      "outputs": [
        {
          "output_type": "stream",
          "name": "stdout",
          "text": [
            "bca\n"
          ]
        }
      ],
      "source": [
        "def decode(input_string_1, input_string_2):\n",
        "    indices = [int(index) for index in input_string_2]\n",
        "    letters = list(input_string_1)\n",
        "    decoded_letters = [''] * len(letters)\n",
        "\n",
        "    for i in range(len(letters)):\n",
        "        decoded_letters[indices[i] - 1] = letters[i]\n",
        "\n",
        "    decoded_string = ''.join(decoded_letters)\n",
        "\n",
        "    return decoded_string\n",
        "\n",
        "input_string_1 = 'abc'\n",
        "input_string_2 = '312'\n",
        "output = decode(input_string_1, input_string_2)\n",
        "print(output)\n"
      ]
    },
    {
      "cell_type": "code",
      "source": [
        "input_string_1 = 'abc'\n",
        "input_string_2 = '312'\n",
        "output = decode(input_string_1, input_string_2)\n",
        "print(output)\n"
      ],
      "metadata": {
        "colab": {
          "base_uri": "https://localhost:8080/"
        },
        "id": "IBd6lNaThDKA",
        "outputId": "7ec82b89-592c-4a30-c145-530dc272f5d3"
      },
      "execution_count": 5,
      "outputs": [
        {
          "output_type": "stream",
          "name": "stdout",
          "text": [
            "bca\n"
          ]
        }
      ]
    }
  ]
}