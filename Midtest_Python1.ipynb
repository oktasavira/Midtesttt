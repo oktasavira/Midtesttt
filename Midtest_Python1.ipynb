{
  "nbformat": 4,
  "nbformat_minor": 0,
  "metadata": {
    "colab": {
      "provenance": []
    },
    "kernelspec": {
      "name": "python3",
      "display_name": "Python 3"
    },
    "language_info": {
      "name": "python"
    }
  },
  "cells": [
    {
      "cell_type": "code",
      "source": [
        "def add_str(input_str):\n",
        "    digits = input_str.split(',')\n",
        "\n",
        "    num = int(''.join(digits))\n",
        "\n",
        "    num += 1\n",
        "\n",
        "    output_str = str(num)\n",
        "\n",
        "    output_str = ','.join(output_str)\n",
        "\n",
        "    if output_str.startswith('0'):\n",
        "        output_str = output_str[1:]\n",
        "\n",
        "    return output_str\n",
        "\n",
        "input_str = '1,5,1,9'\n",
        "output_str = add_str(input_str)\n",
        "print(output_str)"
      ],
      "metadata": {
        "colab": {
          "base_uri": "https://localhost:8080/"
        },
        "id": "8xRqHjP2XB3b",
        "outputId": "7c099809-319f-4ab8-f6cb-8f65521a55d1"
      },
      "execution_count": 25,
      "outputs": [
        {
          "output_type": "stream",
          "name": "stdout",
          "text": [
            "1,5,2,0\n"
          ]
        }
      ]
    }
  ]
}